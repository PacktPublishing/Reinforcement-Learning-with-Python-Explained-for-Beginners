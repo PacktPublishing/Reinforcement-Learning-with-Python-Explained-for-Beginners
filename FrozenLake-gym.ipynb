{
 "cells": [
  {
   "cell_type": "code",
   "execution_count": 1,
   "metadata": {},
   "outputs": [],
   "source": [
    "import gym # pip install gym\n",
    "import numpy as np\n",
    "import time\n",
    "from IPython.display import clear_output"
   ]
  },
  {
   "cell_type": "code",
   "execution_count": 23,
   "metadata": {},
   "outputs": [],
   "source": [
    "env = gym.make('FrozenLake-v0')"
   ]
  },
  {
   "cell_type": "code",
   "execution_count": 24,
   "metadata": {},
   "outputs": [
    {
     "name": "stdout",
     "output_type": "stream",
     "text": [
      "\n",
      "\u001b[41mS\u001b[0mFFF\n",
      "FHFH\n",
      "FFFH\n",
      "HFFG\n"
     ]
    }
   ],
   "source": [
    "env.render()"
   ]
  },
  {
   "cell_type": "code",
   "execution_count": 25,
   "metadata": {},
   "outputs": [],
   "source": [
    "numActions = env.action_space.n\n",
    "numStates = env.observation_space.n"
   ]
  },
  {
   "cell_type": "code",
   "execution_count": 26,
   "metadata": {},
   "outputs": [
    {
     "name": "stdout",
     "output_type": "stream",
     "text": [
      "4 16\n"
     ]
    }
   ],
   "source": [
    "print(numActions,numStates)"
   ]
  },
  {
   "cell_type": "code",
   "execution_count": 27,
   "metadata": {},
   "outputs": [],
   "source": [
    "Q = np.zeros((numStates,numActions))"
   ]
  },
  {
   "cell_type": "code",
   "execution_count": 28,
   "metadata": {},
   "outputs": [
    {
     "name": "stdout",
     "output_type": "stream",
     "text": [
      "[[0. 0. 0. 0.]\n",
      " [0. 0. 0. 0.]\n",
      " [0. 0. 0. 0.]\n",
      " [0. 0. 0. 0.]\n",
      " [0. 0. 0. 0.]\n",
      " [0. 0. 0. 0.]\n",
      " [0. 0. 0. 0.]\n",
      " [0. 0. 0. 0.]\n",
      " [0. 0. 0. 0.]\n",
      " [0. 0. 0. 0.]\n",
      " [0. 0. 0. 0.]\n",
      " [0. 0. 0. 0.]\n",
      " [0. 0. 0. 0.]\n",
      " [0. 0. 0. 0.]\n",
      " [0. 0. 0. 0.]\n",
      " [0. 0. 0. 0.]]\n"
     ]
    }
   ],
   "source": [
    "print(Q)"
   ]
  },
  {
   "cell_type": "code",
   "execution_count": 35,
   "metadata": {},
   "outputs": [],
   "source": [
    "nE = 10000\n",
    "mpE = 80\n",
    "alpha = 0.01\n",
    "gamma = 0.99\n",
    "epsilon = 1\n",
    "edr = 0.0001"
   ]
  },
  {
   "cell_type": "code",
   "execution_count": 36,
   "metadata": {},
   "outputs": [],
   "source": [
    "for e in range(nE):\n",
    "    state = env.reset()\n",
    "    done = False\n",
    "    for step in range(mpE):\n",
    "        if np.random.rand() > epsilon:\n",
    "            action = np.argmax(Q[state,:])\n",
    "        else:\n",
    "            action = env.action_space.sample()\n",
    "        ns,reward,done,info = env.step(action)\n",
    "        Q[state,action] = (1-alpha)*Q[state,action]+alpha*(\n",
    "        reward+gamma*np.max(Q[ns,:]))\n",
    "        state = ns\n",
    "        if done == True:\n",
    "            break\n",
    "    epsilon = epsilon*np.exp(-edr*e)\n",
    "        "
   ]
  },
  {
   "cell_type": "code",
   "execution_count": 37,
   "metadata": {},
   "outputs": [
    {
     "data": {
      "text/plain": [
       "array([[1.30379118e-01, 2.78839342e-02, 2.27452878e-02, 2.00687489e-02],\n",
       "       [4.67075013e-03, 3.10963783e-03, 4.66701929e-04, 1.08983997e-02],\n",
       "       [4.23252833e-03, 1.40798504e-03, 1.49006221e-02, 4.88964425e-04],\n",
       "       [2.06435095e-05, 4.83668241e-04, 3.34624126e-06, 5.98995949e-06],\n",
       "       [1.31851672e-01, 2.27855192e-02, 1.92902256e-02, 1.53996854e-02],\n",
       "       [0.00000000e+00, 0.00000000e+00, 0.00000000e+00, 0.00000000e+00],\n",
       "       [1.04758617e-02, 1.23507914e-01, 1.68762538e-04, 2.16160218e-04],\n",
       "       [0.00000000e+00, 0.00000000e+00, 0.00000000e+00, 0.00000000e+00],\n",
       "       [1.07485775e-02, 1.34009747e-01, 1.97772255e-02, 3.34101881e-02],\n",
       "       [1.58737677e-02, 2.75387182e-02, 2.94823313e-01, 2.51476083e-02],\n",
       "       [3.86342973e-01, 2.71018936e-02, 9.38386664e-03, 0.00000000e+00],\n",
       "       [0.00000000e+00, 0.00000000e+00, 0.00000000e+00, 0.00000000e+00],\n",
       "       [0.00000000e+00, 0.00000000e+00, 0.00000000e+00, 0.00000000e+00],\n",
       "       [8.74051524e-03, 2.79718075e-02, 4.81410045e-01, 9.27192107e-03],\n",
       "       [8.12589473e-02, 2.14391909e-01, 6.81124050e-01, 2.57344497e-02],\n",
       "       [0.00000000e+00, 0.00000000e+00, 0.00000000e+00, 0.00000000e+00]])"
      ]
     },
     "execution_count": 37,
     "metadata": {},
     "output_type": "execute_result"
    }
   ],
   "source": [
    "Q"
   ]
  },
  {
   "cell_type": "code",
   "execution_count": 38,
   "metadata": {},
   "outputs": [
    {
     "name": "stdout",
     "output_type": "stream",
     "text": [
      "  (Right)\n",
      "SFFF\n",
      "FHFH\n",
      "FFFH\n",
      "HFF\u001b[41mG\u001b[0m\n",
      "Goal\n"
     ]
    }
   ],
   "source": [
    "for e in range(4):\n",
    "    state = env.reset()\n",
    "    done = False\n",
    "    print(\"Episode::\",e)\n",
    "    time.sleep(0.1)\n",
    "    for step in range(mpE):\n",
    "        clear_output(wait=True)\n",
    "        env.render()\n",
    "        time.sleep(0.3)\n",
    "        action = np.argmax(Q[state,:])\n",
    "        ns,reward,done,info = env.step(action)\n",
    "        if done:\n",
    "            clear_output(wait=True)\n",
    "            env.render()\n",
    "            if reward == 1:\n",
    "                print(\"Goal\")\n",
    "                time.sleep(3)\n",
    "            else:\n",
    "                print(\"Hole\")\n",
    "                time.sleep(3)\n",
    "                clear_output(wait=True)\n",
    "            break\n",
    "        state = ns\n",
    "env.close()\n",
    "            \n",
    "            "
   ]
  },
  {
   "cell_type": "code",
   "execution_count": null,
   "metadata": {},
   "outputs": [],
   "source": []
  }
 ],
 "metadata": {
  "kernelspec": {
   "display_name": "Python 3",
   "language": "python",
   "name": "python3"
  },
  "language_info": {
   "codemirror_mode": {
    "name": "ipython",
    "version": 3
   },
   "file_extension": ".py",
   "mimetype": "text/x-python",
   "name": "python",
   "nbconvert_exporter": "python",
   "pygments_lexer": "ipython3",
   "version": "3.8.3"
  }
 },
 "nbformat": 4,
 "nbformat_minor": 4
}
