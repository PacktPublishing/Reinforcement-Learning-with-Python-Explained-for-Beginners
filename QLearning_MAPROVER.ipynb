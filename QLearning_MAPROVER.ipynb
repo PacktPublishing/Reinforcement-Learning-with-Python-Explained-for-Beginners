{
 "cells": [
  {
   "cell_type": "code",
   "execution_count": 10,
   "metadata": {},
   "outputs": [],
   "source": [
    "import numpy as np"
   ]
  },
  {
   "cell_type": "code",
   "execution_count": 11,
   "metadata": {},
   "outputs": [],
   "source": [
    "Q = np.empty((9,9))\n",
    "Q[:] = np.nan\n",
    "Q[0,[0,1,3]]=0\n",
    "Q[1,[0,1,2,4]] = 0\n",
    "Q[2,[1,2,5]] = 0\n",
    "Q[3,[0,3,4]] = 0\n",
    "Q[4,[1,3,4,5,7]] = 0\n",
    "Q[5,[2,4,5,8]] = 0\n",
    "Q[6,[3,6,7]] = 0\n",
    "Q[7,[4,6,7,8]] = 0\n",
    "Q[8,[5,7,8]] = 0"
   ]
  },
  {
   "cell_type": "code",
   "execution_count": 12,
   "metadata": {},
   "outputs": [
    {
     "data": {
      "text/plain": [
       "array([[ 0.,  0., nan,  0., nan, nan, nan, nan, nan],\n",
       "       [ 0.,  0.,  0., nan,  0., nan, nan, nan, nan],\n",
       "       [nan,  0.,  0., nan, nan,  0., nan, nan, nan],\n",
       "       [ 0., nan, nan,  0.,  0., nan, nan, nan, nan],\n",
       "       [nan,  0., nan,  0.,  0.,  0., nan,  0., nan],\n",
       "       [nan, nan,  0., nan,  0.,  0., nan, nan,  0.],\n",
       "       [nan, nan, nan,  0., nan, nan,  0.,  0., nan],\n",
       "       [nan, nan, nan, nan,  0., nan,  0.,  0.,  0.],\n",
       "       [nan, nan, nan, nan, nan,  0., nan,  0.,  0.]])"
      ]
     },
     "execution_count": 12,
     "metadata": {},
     "output_type": "execute_result"
    }
   ],
   "source": [
    "Q"
   ]
  },
  {
   "cell_type": "code",
   "execution_count": 13,
   "metadata": {},
   "outputs": [],
   "source": [
    "R = Q\n",
    "idx = np.isnan(R[:,4])\n",
    "R[~idx,4] = -1\n",
    "idx = np.isnan(R[:,8])\n",
    "R[~idx,8] = 1"
   ]
  },
  {
   "cell_type": "code",
   "execution_count": 14,
   "metadata": {},
   "outputs": [
    {
     "data": {
      "text/plain": [
       "array([[ 0.,  0., nan,  0., nan, nan, nan, nan, nan],\n",
       "       [ 0.,  0.,  0., nan, -1., nan, nan, nan, nan],\n",
       "       [nan,  0.,  0., nan, nan,  0., nan, nan, nan],\n",
       "       [ 0., nan, nan,  0., -1., nan, nan, nan, nan],\n",
       "       [nan,  0., nan,  0., -1.,  0., nan,  0., nan],\n",
       "       [nan, nan,  0., nan, -1.,  0., nan, nan,  1.],\n",
       "       [nan, nan, nan,  0., nan, nan,  0.,  0., nan],\n",
       "       [nan, nan, nan, nan, -1., nan,  0.,  0.,  1.],\n",
       "       [nan, nan, nan, nan, nan,  0., nan,  0.,  1.]])"
      ]
     },
     "execution_count": 14,
     "metadata": {},
     "output_type": "execute_result"
    }
   ],
   "source": [
    "R"
   ]
  },
  {
   "cell_type": "code",
   "execution_count": 15,
   "metadata": {},
   "outputs": [],
   "source": [
    "MAXEPISODES = 100\n",
    "NUMSTATES = 9\n",
    "gamma = 0.5\n",
    "TerminalState = 8"
   ]
  },
  {
   "cell_type": "code",
   "execution_count": 16,
   "metadata": {},
   "outputs": [],
   "source": [
    "for k in range(MAXEPISODES):\n",
    "    alpha = 1/(k+1)\n",
    "    i = np.random.permutation(np.arange(NUMSTATES))[0]\n",
    "    while True:\n",
    "        selectMax = False\n",
    "        if np.random.rand() < 0.5:\n",
    "            selectMax = True\n",
    "        idx = np.isnan(Q[i,:])\n",
    "        allowedStates = np.arange(NUMSTATES)[~idx]\n",
    "        j = Q[i,allowedStates].argmax()\n",
    "        if selectMax:\n",
    "            j = allowedStates[j]\n",
    "        else:\n",
    "            j = np.random.permutation(allowedStates)[0]\n",
    "        Q[i,j] = Q[i,j]+alpha*(R[i,j]+gamma*np.nanmax(Q[j,:])-Q[i,j])\n",
    "        if i == TerminalState:\n",
    "            break\n",
    "        i=j"
   ]
  },
  {
   "cell_type": "code",
   "execution_count": 17,
   "metadata": {},
   "outputs": [
    {
     "data": {
      "text/plain": [
       "array([[ 3.00777648e-02,  6.09964639e-01,             nan,\n",
       "         2.77407990e-03,             nan,             nan,\n",
       "                    nan,             nan,             nan],\n",
       "       [ 3.04954181e-02,  2.10611639e-01,  2.18694602e+00,\n",
       "                    nan, -8.98586499e-01,             nan,\n",
       "                    nan,             nan,             nan],\n",
       "       [            nan,  3.98862124e-01,  4.26708268e-01,\n",
       "                    nan,             nan,  4.02058195e+00,\n",
       "                    nan,             nan,             nan],\n",
       "       [ 7.94519889e-02,             nan,             nan,\n",
       "         2.91338152e-03, -9.44116284e-01,             nan,\n",
       "                    nan,             nan,             nan],\n",
       "       [            nan,  9.62562031e-02,             nan,\n",
       "         1.61441848e-03, -9.10504419e-01,  1.77202158e+00,\n",
       "                    nan,  5.88326084e-02,             nan],\n",
       "       [            nan,             nan,  8.69153157e-01,\n",
       "                    nan, -7.85260592e-01,  7.61612289e-01,\n",
       "                    nan,             nan,  5.20839216e+00],\n",
       "       [            nan,             nan,             nan,\n",
       "         2.13356701e-03,             nan,             nan,\n",
       "         1.42098894e-03,  9.46706507e-02,             nan],\n",
       "       [            nan,             nan,             nan,\n",
       "                    nan, -9.68034214e-01,             nan,\n",
       "         1.50096642e-03,  9.92258691e-02,  1.87363120e+00],\n",
       "       [            nan,             nan,             nan,\n",
       "                    nan,             nan,  8.92467704e-01,\n",
       "                    nan,  8.42832405e-01,  4.63945151e+00]])"
      ]
     },
     "execution_count": 17,
     "metadata": {},
     "output_type": "execute_result"
    }
   ],
   "source": [
    "Q"
   ]
  },
  {
   "cell_type": "code",
   "execution_count": 20,
   "metadata": {},
   "outputs": [
    {
     "name": "stdout",
     "output_type": "stream",
     "text": [
      "6\n",
      "7\n",
      "8\n",
      "8\n",
      "8\n",
      "8\n",
      "8\n",
      "8\n",
      "8\n",
      "8\n"
     ]
    }
   ],
   "source": [
    "i = 6\n",
    "NUMTRANS = 10\n",
    "for k in range(NUMTRANS):\n",
    "    print(i)\n",
    "    idx = np.isnan(Q[i,:])\n",
    "    allowedStates = np.arange(9)[~idx]\n",
    "    j = Q[i,allowedStates].argmax()\n",
    "    j = allowedStates[j]\n",
    "    i = j"
   ]
  },
  {
   "cell_type": "code",
   "execution_count": null,
   "metadata": {},
   "outputs": [],
   "source": []
  }
 ],
 "metadata": {
  "kernelspec": {
   "display_name": "Python 3",
   "language": "python",
   "name": "python3"
  },
  "language_info": {
   "codemirror_mode": {
    "name": "ipython",
    "version": 3
   },
   "file_extension": ".py",
   "mimetype": "text/x-python",
   "name": "python",
   "nbconvert_exporter": "python",
   "pygments_lexer": "ipython3",
   "version": "3.7.6"
  }
 },
 "nbformat": 4,
 "nbformat_minor": 4
}
